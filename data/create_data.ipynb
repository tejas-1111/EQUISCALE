{
 "cells": [
  {
   "cell_type": "markdown",
   "metadata": {},
   "source": [
    "- Reads raw data and processes it for model training\n",
    "- Drops records with missing values\n",
    "- Rearrange columns so that the second last column is the sensitive attribute, and the last column is the label\n",
    "    - Both sensitive attribute and labels should be 0 or 1\n",
    "- Converts text data to numerical values"
   ]
  },
  {
   "cell_type": "code",
   "execution_count": 7,
   "metadata": {},
   "outputs": [],
   "source": [
    "import pandas as pd"
   ]
  },
  {
   "cell_type": "markdown",
   "metadata": {},
   "source": [
    "---\n",
    "\n",
    "# Adult dataset\n",
    "- Dataset taken from UCI ML repository\n",
    "- Sensitive attribute: gender\n",
    "- Combining both provided datasets, assuming that the training script will split as necessary"
   ]
  },
  {
   "cell_type": "code",
   "execution_count": 8,
   "metadata": {},
   "outputs": [
    {
     "name": "stdout",
     "output_type": "stream",
     "text": [
      "   0   1       2   3   5   6   7   8      10  11  12  13  9   14\n",
      "0  39   0   77516   0   0   0   0   0   2174   0  40   0   0   0\n",
      "1  50   1   83311   0   1   1   1   0      0   0  13   0   0   0\n",
      "2  38   2  215646   1   2   2   0   0      0   0  40   0   0   0\n",
      "3  53   2  234721   2   1   2   1   1      0   0  40   0   0   0\n",
      "4  28   2  338409   0   1   3   2   1      0   0  40   1   1   0\n",
      "5  37   2  284582   3   1   1   2   0      0   0  40   0   1   0\n",
      "6  49   2  160187   4   3   4   0   1      0   0  16   2   1   0\n",
      "7  52   1  209642   1   1   1   1   0      0   0  45   0   0   1\n",
      "8  31   2   45781   3   0   3   0   0  14084   0  50   0   1   1\n",
      "9  42   2  159449   0   1   1   1   0   5178   0  40   0   0   1\n",
      "(45222, 14)\n"
     ]
    },
    {
     "name": "stderr",
     "output_type": "stream",
     "text": [
      "/tmp/ipykernel_9425/1228130929.py:14: FutureWarning: Downcasting behavior in `replace` is deprecated and will be removed in a future version. To retain the old behavior, explicitly call `result.infer_objects(copy=False)`. To opt-in to the future behavior, set `pd.set_option('future.no_silent_downcasting', True)`\n",
      "  data[9] = data[9].replace({\" Female\": 1, \" Male\": 0})\n",
      "/tmp/ipykernel_9425/1228130929.py:16: FutureWarning: Downcasting behavior in `replace` is deprecated and will be removed in a future version. To retain the old behavior, explicitly call `result.infer_objects(copy=False)`. To opt-in to the future behavior, set `pd.set_option('future.no_silent_downcasting', True)`\n",
      "  data[14] = data[14].replace({\" <=50K\": 0, \" >50K\": 1, \" <=50K.\": 0, \" >50K.\": 1})\n"
     ]
    }
   ],
   "source": [
    "data_1 = pd.read_csv(\"adult/adult.data\", header=None, index_col=None)\n",
    "data_2 = pd.read_csv(\"adult/adult.test\", header=None, index_col=None)\n",
    "data = pd.concat((data_1, data_2))\n",
    "data.dropna()\n",
    "for col in data.columns:\n",
    "    data = data[data[col] != \"?\"]\n",
    "    data = data[data[col] != \" ?\"]\n",
    "data[1] = pd.factorize(data[1])[0]\n",
    "data[3] = pd.factorize(data[3])[0]\n",
    "data[5] = pd.factorize(data[5])[0]\n",
    "data[6] = pd.factorize(data[6])[0]\n",
    "data[7] = pd.factorize(data[7])[0]\n",
    "data[8] = pd.factorize(data[8])[0]\n",
    "data[9] = data[9].replace({\" Female\": 1, \" Male\": 0})\n",
    "data[13] = pd.factorize(data[13])[0]\n",
    "data[14] = data[14].replace({\" <=50K\": 0, \" >50K\": 1, \" <=50K.\": 0, \" >50K.\": 1})\n",
    "\n",
    "del data[4]  # education and education-num are redundant\n",
    "data = data.reindex(columns=[0, 1, 2, 3, 5, 6, 7, 8, 10, 11, 12, 13, 9, 14])\n",
    "print(data.head(10))\n",
    "print(data.shape)\n",
    "data.to_csv(\"adult.csv\", header=None, index=None)"
   ]
  },
  {
   "cell_type": "markdown",
   "metadata": {},
   "source": [
    "---\n",
    "\n",
    "# Bank Marketing dataset\n",
    "- Dataset taken from UCI ML repository\n",
    "- Bank-additional dataset used\n",
    "- Sensitive attribute: age (<25 and >=60) is 0 else 1"
   ]
  },
  {
   "cell_type": "code",
   "execution_count": 9,
   "metadata": {},
   "outputs": [
    {
     "name": "stderr",
     "output_type": "stream",
     "text": [
      "/tmp/ipykernel_9425/118880270.py:16: FutureWarning: Downcasting behavior in `replace` is deprecated and will be removed in a future version. To retain the old behavior, explicitly call `result.infer_objects(copy=False)`. To opt-in to the future behavior, set `pd.set_option('future.no_silent_downcasting', True)`\n",
      "  data[\"y\"] = data[\"y\"].replace({\"yes\": 1, \"no\": 0})\n"
     ]
    },
    {
     "name": "stdout",
     "output_type": "stream",
     "text": [
      "   age  job  marital  education  default  housing  loan  contact  month  \\\n",
      "0   56    0        0          0        0        0     0        0      0   \n",
      "1   57    1        0          1        1        0     0        0      0   \n",
      "2   37    1        0          1        0        1     0        0      0   \n",
      "3   40    2        0          2        0        0     0        0      0   \n",
      "4   56    1        0          1        0        0     1        0      0   \n",
      "5   45    1        0          3        1        0     0        0      0   \n",
      "6   59    2        0          4        0        0     0        0      0   \n",
      "7   41    3        0          5        1        0     0        0      0   \n",
      "8   24    4        1          4        0        1     0        0      0   \n",
      "9   25    1        1          1        0        1     0        0      0   \n",
      "\n",
      "   day_of_week  ...  pdays  previous  poutcome  emp.var.rate  cons.price.idx  \\\n",
      "0            0  ...    999         0         0           1.1          93.994   \n",
      "1            0  ...    999         0         0           1.1          93.994   \n",
      "2            0  ...    999         0         0           1.1          93.994   \n",
      "3            0  ...    999         0         0           1.1          93.994   \n",
      "4            0  ...    999         0         0           1.1          93.994   \n",
      "5            0  ...    999         0         0           1.1          93.994   \n",
      "6            0  ...    999         0         0           1.1          93.994   \n",
      "7            0  ...    999         0         0           1.1          93.994   \n",
      "8            0  ...    999         0         0           1.1          93.994   \n",
      "9            0  ...    999         0         0           1.1          93.994   \n",
      "\n",
      "   cons.conf.idx  euribor3m  nr.employed  age_group  y  \n",
      "0          -36.4      4.857       5191.0          0  0  \n",
      "1          -36.4      4.857       5191.0          0  0  \n",
      "2          -36.4      4.857       5191.0          0  0  \n",
      "3          -36.4      4.857       5191.0          0  0  \n",
      "4          -36.4      4.857       5191.0          0  0  \n",
      "5          -36.4      4.857       5191.0          0  0  \n",
      "6          -36.4      4.857       5191.0          0  0  \n",
      "7          -36.4      4.857       5191.0          0  0  \n",
      "8          -36.4      4.857       5191.0          1  0  \n",
      "9          -36.4      4.857       5191.0          1  0  \n",
      "\n",
      "[10 rows x 22 columns]\n",
      "(41188, 22)\n"
     ]
    }
   ],
   "source": [
    "data = pd.read_csv(\"bank/bank.csv\", sep=\";\")\n",
    "data = data.dropna()\n",
    "for c in [\n",
    "    \"job\",\n",
    "    \"marital\",\n",
    "    \"education\",\n",
    "    \"default\",\n",
    "    \"housing\",\n",
    "    \"loan\",\n",
    "    \"contact\",\n",
    "    \"month\",\n",
    "    \"day_of_week\",\n",
    "    \"poutcome\",\n",
    "]:\n",
    "    data[c] = pd.factorize(data[c])[0]\n",
    "data[\"y\"] = data[\"y\"].replace({\"yes\": 1, \"no\": 0})\n",
    "data[\"age_group\"] = pd.cut(\n",
    "    data.age, [0, 26, 60, 100], right=False, labels=[1, 0, 1], ordered=False\n",
    ")\n",
    "c = list(data.columns)\n",
    "c = c[:-2] + [c[-1]] + [c[-2]]\n",
    "data = data.reindex(columns=c)\n",
    "print(data.head(10))\n",
    "print(data.shape)\n",
    "data.to_csv(\"bank.csv\", header=None, index=None)"
   ]
  },
  {
   "cell_type": "markdown",
   "metadata": {
    "vscode": {
     "languageId": "plaintext"
    }
   },
   "source": [
    "---\n",
    "\n",
    "# Compas dataset\n",
    "- Dataset taken from propublic compas analysis github repository\n",
    "- Features used by IBM AIF360 kept\n",
    "- Sensitive attribute: race"
   ]
  },
  {
   "cell_type": "code",
   "execution_count": 10,
   "metadata": {},
   "outputs": [
    {
     "name": "stdout",
     "output_type": "stream",
     "text": [
      "   sex  age  age_cat  juv_fel_count  juv_misd_count  juv_other_count  \\\n",
      "0    0   69        0              0               0                0   \n",
      "1    0   34        1              0               0                0   \n",
      "2    0   24        2              0               0                1   \n",
      "3    0   23        2              0               1                0   \n",
      "4    0   43        1              0               0                0   \n",
      "5    0   44        1              0               0                0   \n",
      "6    0   41        1              0               0                0   \n",
      "7    0   43        1              0               0                0   \n",
      "8    1   39        1              0               0                0   \n",
      "9    0   21        2              0               0                0   \n",
      "\n",
      "   priors_count  c_charge_degree  c_charge_desc  race  two_year_recid  \n",
      "0             0                0              0     1               0  \n",
      "1             0                0              1     1               1  \n",
      "2             4                0              2     1               1  \n",
      "3             1                0              3     1               0  \n",
      "4             2                0              4     1               0  \n",
      "5             0                1              5     1               0  \n",
      "6            14                0              6     0               1  \n",
      "7             3                0              4     1               0  \n",
      "8             0                1              5     0               0  \n",
      "9             1                0              7     0               1  \n",
      "(7185, 11)\n"
     ]
    },
    {
     "name": "stderr",
     "output_type": "stream",
     "text": [
      "/tmp/ipykernel_9425/278692638.py:22: FutureWarning: Downcasting behavior in `replace` is deprecated and will be removed in a future version. To retain the old behavior, explicitly call `result.infer_objects(copy=False)`. To opt-in to the future behavior, set `pd.set_option('future.no_silent_downcasting', True)`\n",
      "  data[\"race\"] = data[\"race\"].replace(\n"
     ]
    }
   ],
   "source": [
    "data = pd.read_csv(\"compas/compas.csv\")\n",
    "data = data[\n",
    "    [\n",
    "        \"sex\",\n",
    "        \"age\",\n",
    "        \"age_cat\",\n",
    "        \"juv_fel_count\",\n",
    "        \"juv_misd_count\",\n",
    "        \"juv_other_count\",\n",
    "        \"priors_count\",\n",
    "        \"c_charge_degree\",\n",
    "        \"c_charge_desc\",\n",
    "        \"race\",\n",
    "        \"two_year_recid\",\n",
    "    ]\n",
    "]\n",
    "data = data.dropna()\n",
    "data[\"sex\"] = pd.factorize(data[\"sex\"])[0]\n",
    "data[\"age_cat\"] = pd.factorize(data[\"age_cat\"])[0]\n",
    "data[\"c_charge_degree\"] = pd.factorize(data[\"c_charge_degree\"])[0]\n",
    "data[\"c_charge_desc\"] = pd.factorize(data[\"c_charge_desc\"])[0]\n",
    "data[\"race\"] = data[\"race\"].replace(\n",
    "    {\n",
    "        \"Caucasian\": 0,\n",
    "        \"Other\": 1,\n",
    "        \"African-American\": 1,\n",
    "        \"Hispanic\": 1,\n",
    "        \"Native American\": 1,\n",
    "        \"Asian\": 1,\n",
    "    }\n",
    ")\n",
    "\n",
    "print(data.head(10))\n",
    "print(data.shape)\n",
    "data.to_csv(\"compas.csv\", header=None, index=None)"
   ]
  },
  {
   "cell_type": "markdown",
   "metadata": {},
   "source": [
    "---\n",
    "\n",
    "# Default of Credit Card Clients dataset\n",
    "- Dataset taken from UCI ML repository\n",
    "- Sensitive attribute: gender"
   ]
  },
  {
   "cell_type": "code",
   "execution_count": 11,
   "metadata": {},
   "outputs": [
    {
     "name": "stdout",
     "output_type": "stream",
     "text": [
      "    LIMIT_BAL  EDUCATION  MARRIAGE  AGE  PAY_0  PAY_2  PAY_3  PAY_4  PAY_5  \\\n",
      "ID                                                                           \n",
      "1       20000          2         1   24      2      2     -1     -1     -2   \n",
      "2      120000          2         2   26     -1      2      0      0      0   \n",
      "3       90000          2         2   34      0      0      0      0      0   \n",
      "4       50000          2         1   37      0      0      0      0      0   \n",
      "5       50000          2         1   57     -1      0     -1      0      0   \n",
      "6       50000          1         2   37      0      0      0      0      0   \n",
      "7      500000          1         2   29      0      0      0      0      0   \n",
      "8      100000          2         2   23      0     -1     -1      0      0   \n",
      "9      140000          3         1   28      0      0      2      0      0   \n",
      "10      20000          3         2   35     -2     -2     -2     -2     -1   \n",
      "\n",
      "    PAY_6  ...  BILL_AMT5  BILL_AMT6  PAY_AMT1  PAY_AMT2  PAY_AMT3  PAY_AMT4  \\\n",
      "ID         ...                                                                 \n",
      "1      -2  ...          0          0         0       689         0         0   \n",
      "2       2  ...       3455       3261         0      1000      1000      1000   \n",
      "3       0  ...      14948      15549      1518      1500      1000      1000   \n",
      "4       0  ...      28959      29547      2000      2019      1200      1100   \n",
      "5       0  ...      19146      19131      2000     36681     10000      9000   \n",
      "6       0  ...      19619      20024      2500      1815       657      1000   \n",
      "7       0  ...     483003     473944     55000     40000     38000     20239   \n",
      "8      -1  ...       -159        567       380       601         0       581   \n",
      "9       0  ...      11793       3719      3329         0       432      1000   \n",
      "10     -1  ...      13007      13912         0         0         0     13007   \n",
      "\n",
      "    PAY_AMT5  PAY_AMT6  SEX  default payment next month  \n",
      "ID                                                       \n",
      "1          0         0    1                           1  \n",
      "2          0      2000    1                           1  \n",
      "3       1000      5000    1                           0  \n",
      "4       1069      1000    1                           0  \n",
      "5        689       679    0                           0  \n",
      "6       1000       800    0                           0  \n",
      "7      13750     13770    0                           0  \n",
      "8       1687      1542    1                           0  \n",
      "9       1000      1000    1                           0  \n",
      "10      1122         0    0                           0  \n",
      "\n",
      "[10 rows x 24 columns]\n",
      "(30000, 24)\n"
     ]
    }
   ],
   "source": [
    "data = pd.read_csv(\"default/default.csv\", index_col=\"ID\")\n",
    "data = data.dropna()\n",
    "data[\"SEX\"] = data[\"SEX\"] - 1\n",
    "c = list(data.columns)\n",
    "c = [c[0]] + c[2:-1] + [c[1]] + [c[-1]]\n",
    "data = data.reindex(columns=c)\n",
    "print(data.head(10))\n",
    "print(data.shape)\n",
    "data.to_csv(\"default.csv\", index=None, header=None)"
   ]
  },
  {
   "cell_type": "markdown",
   "metadata": {},
   "source": [
    "---\n",
    "\n",
    "# German Credit dataset\n",
    "- Dataset taken from UCI ML repository\n",
    "- Sensitive attribute: gender"
   ]
  },
  {
   "cell_type": "code",
   "execution_count": 12,
   "metadata": {},
   "outputs": [
    {
     "name": "stdout",
     "output_type": "stream",
     "text": [
      "   0   2   3   5   6   9   11  13  14  16  ...  19  1     4   7   10  12  15  \\\n",
      "0   0   0   0   0   0   0   0   0   0   0  ...   0   6  1169   4   4  67   2   \n",
      "1   1   1   0   1   1   0   0   0   0   0  ...   0  48  5951   2   2  22   1   \n",
      "2   2   0   1   1   2   0   0   0   0   1  ...   0  12  2096   2   3  49   1   \n",
      "3   0   1   2   1   2   1   1   0   1   0  ...   0  42  7882   2   4  45   1   \n",
      "4   0   2   3   1   1   0   2   0   1   0  ...   0  24  4870   3   4  53   2   \n",
      "5   2   1   1   0   1   0   2   0   1   1  ...   0  36  9055   2   4  35   1   \n",
      "6   2   1   2   2   0   0   1   0   0   0  ...   0  24  2835   3   4  53   1   \n",
      "7   1   1   4   1   1   0   3   0   2   2  ...   0  36  6948   2   2  35   1   \n",
      "8   2   1   0   3   2   0   0   0   0   1  ...   0  12  3059   2   4  61   1   \n",
      "9   1   0   3   1   3   0   3   0   0   2  ...   0  30  5234   4   2  28   2   \n",
      "\n",
      "   17  8   20  \n",
      "0   1   0   0  \n",
      "1   1   1   1  \n",
      "2   2   0   0  \n",
      "3   2   0   0  \n",
      "4   2   0   1  \n",
      "5   2   0   0  \n",
      "6   1   0   0  \n",
      "7   1   0   0  \n",
      "8   1   0   0  \n",
      "9   1   0   1  \n",
      "\n",
      "[10 rows x 21 columns]\n",
      "(1000, 21)\n"
     ]
    },
    {
     "name": "stderr",
     "output_type": "stream",
     "text": [
      "/tmp/ipykernel_9425/2396882168.py:17: FutureWarning: Downcasting behavior in `replace` is deprecated and will be removed in a future version. To retain the old behavior, explicitly call `result.infer_objects(copy=False)`. To opt-in to the future behavior, set `pd.set_option('future.no_silent_downcasting', True)`\n",
      "  data[8] = data[8].replace({\"A91\": 0, \"A92\": 1, \"A93\": 0, \"A94\": 0, \"A95\": 1})\n"
     ]
    }
   ],
   "source": [
    "data = pd.read_csv(\"german/german.data\", header=None, index_col=None, sep=\" \")\n",
    "data = data.dropna()\n",
    "\n",
    "data[0] = pd.factorize(data[0])[0]\n",
    "data[2] = pd.factorize(data[2])[0]\n",
    "data[3] = pd.factorize(data[3])[0]\n",
    "data[5] = pd.factorize(data[5])[0]\n",
    "data[6] = pd.factorize(data[6])[0]\n",
    "data[9] = pd.factorize(data[9])[0]\n",
    "data[11] = pd.factorize(data[11])[0]\n",
    "data[13] = pd.factorize(data[13])[0]\n",
    "data[14] = pd.factorize(data[14])[0]\n",
    "data[16] = pd.factorize(data[16])[0]\n",
    "data[18] = pd.factorize(data[18])[0]\n",
    "data[19] = pd.factorize(data[19])[0]\n",
    "\n",
    "data[8] = data[8].replace({\"A91\": 0, \"A92\": 1, \"A93\": 0, \"A94\": 0, \"A95\": 1})\n",
    "data[20] = data[20].replace({1: 0, 2: 1})\n",
    "\n",
    "data = data.reindex(\n",
    "    columns=[0, 2, 3, 5, 6, 9, 11, 13, 14, 16, 18, 19, 1, 4, 7, 10, 12, 15, 17, 8, 20]\n",
    ")\n",
    "print(data.head(10))\n",
    "print(data.shape)\n",
    "data.to_csv(\"german.csv\", header=None, index=None)"
   ]
  }
 ],
 "metadata": {
  "kernelspec": {
   "display_name": ".venv",
   "language": "python",
   "name": "python3"
  },
  "language_info": {
   "codemirror_mode": {
    "name": "ipython",
    "version": 3
   },
   "file_extension": ".py",
   "mimetype": "text/x-python",
   "name": "python",
   "nbconvert_exporter": "python",
   "pygments_lexer": "ipython3",
   "version": "3.13.2"
  }
 },
 "nbformat": 4,
 "nbformat_minor": 2
}
